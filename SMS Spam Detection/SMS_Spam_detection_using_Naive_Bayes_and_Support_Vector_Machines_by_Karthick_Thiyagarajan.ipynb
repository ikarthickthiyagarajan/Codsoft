{
  "metadata": {
    "language_info": {
      "version": "3.6.1",
      "name": "python",
      "pygments_lexer": "ipython3",
      "codemirror_mode": {
        "version": 3,
        "name": "ipython"
      },
      "mimetype": "text/x-python",
      "nbconvert_exporter": "python",
      "file_extension": ".py"
    },
    "anaconda-cloud": {},
    "kernelspec": {
      "name": "python3",
      "language": "python",
      "display_name": "Python 3"
    },
    "kaggle": {
      "accelerator": "none",
      "dataSources": [
        {
          "sourceId": 982,
          "sourceType": "datasetVersion",
          "datasetId": 483
        }
      ],
      "isInternetEnabled": false,
      "language": "python",
      "sourceType": "notebook",
      "isGpuEnabled": false
    },
    "colab": {
      "provenance": []
    }
  },
  "nbformat_minor": 0,
  "nbformat": 4,
  "cells": [
    {
      "source": [
        "import os\n",
        "import sys\n",
        "from tempfile import NamedTemporaryFile\n",
        "from urllib.request import urlopen\n",
        "from urllib.parse import unquote, urlparse\n",
        "from urllib.error import HTTPError\n",
        "from zipfile import ZipFile\n",
        "import tarfile\n",
        "import shutil\n",
        "\n",
        "CHUNK_SIZE = 40960\n",
        "DATA_SOURCE_MAPPING = ':https%3A%2F%2Fstorage.googleapis.com%2Fkaggle-data-sets%2F483%2F982%2Fbundle%2Farchive.zip%3FX-Goog-Algorithm%3DGOOG4-RSA-SHA256%26X-Goog-Credential%3Dgcp-kaggle-com%2540kaggle-161607.iam.gserviceaccount.com%252F20240307%252Fauto%252Fstorage%252Fgoog4_request%26X-Goog-Date%3D20240307T142403Z%26X-Goog-Expires%3D259200%26X-Goog-SignedHeaders%3Dhost%26X-Goog-Signature%3D51cf6cba19ec1269c27c584d5741e463fb18f295854c6bdea577e21e99bb0bf31d9b58b3922bb705aafccddf45463b5bfb1a773490766a18f3e82d9bc8a906e5084d97b97e1ab02dca9af1d123c448b0f1c8432fc9aca8935daf8b4bdc61f78aae1a18ece5d239edc2c75aaa00667109d11ab8001bd4b56ada5a2a0118b7ed4cb345ebbcaa87fb7d47cd06d70e8f6b512b2f4029b3564f7d71fb97edddc805094cee2ce8cf4f150183b9b1996c04c438d303695bd530fddc3090f11065cf81ef637121906976c20e66e6e5ef5a2caec2c2af6c44f2a4c4d2fb31284a65deeaa4ac3f67ea2d353682afc694733b103ae420a75a66fb1819e6adb9302da9047ed4'\n",
        "\n",
        "KAGGLE_INPUT_PATH='/kaggle/input'\n",
        "KAGGLE_WORKING_PATH='/kaggle/working'\n",
        "KAGGLE_SYMLINK='kaggle'\n",
        "\n",
        "!umount /kaggle/input/ 2> /dev/null\n",
        "shutil.rmtree('/kaggle/input', ignore_errors=True)\n",
        "os.makedirs(KAGGLE_INPUT_PATH, 0o777, exist_ok=True)\n",
        "os.makedirs(KAGGLE_WORKING_PATH, 0o777, exist_ok=True)\n",
        "\n",
        "try:\n",
        "  os.symlink(KAGGLE_INPUT_PATH, os.path.join(\"..\", 'input'), target_is_directory=True)\n",
        "except FileExistsError:\n",
        "  pass\n",
        "try:\n",
        "  os.symlink(KAGGLE_WORKING_PATH, os.path.join(\"..\", 'working'), target_is_directory=True)\n",
        "except FileExistsError:\n",
        "  pass\n",
        "\n",
        "for data_source_mapping in DATA_SOURCE_MAPPING.split(','):\n",
        "    directory, download_url_encoded = data_source_mapping.split(':')\n",
        "    download_url = unquote(download_url_encoded)\n",
        "    filename = urlparse(download_url).path\n",
        "    destination_path = os.path.join(KAGGLE_INPUT_PATH, directory)\n",
        "    try:\n",
        "        with urlopen(download_url) as fileres, NamedTemporaryFile() as tfile:\n",
        "            total_length = fileres.headers['content-length']\n",
        "            print(f'Downloading {directory}, {total_length} bytes compressed')\n",
        "            dl = 0\n",
        "            data = fileres.read(CHUNK_SIZE)\n",
        "            while len(data) > 0:\n",
        "                dl += len(data)\n",
        "                tfile.write(data)\n",
        "                done = int(50 * dl / int(total_length))\n",
        "                sys.stdout.write(f\"\\r[{'=' * done}{' ' * (50-done)}] {dl} bytes downloaded\")\n",
        "                sys.stdout.flush()\n",
        "                data = fileres.read(CHUNK_SIZE)\n",
        "            if filename.endswith('.zip'):\n",
        "              with ZipFile(tfile) as zfile:\n",
        "                zfile.extractall(destination_path)\n",
        "            else:\n",
        "              with tarfile.open(tfile.name) as tarfile:\n",
        "                tarfile.extractall(destination_path)\n",
        "            print(f'\\nDownloaded and uncompressed: {directory}')\n",
        "    except HTTPError as e:\n",
        "        print(f'Failed to load (likely expired) {download_url} to path {destination_path}')\n",
        "        continue\n",
        "    except OSError as e:\n",
        "        print(f'Failed to load {download_url} to path {destination_path}')\n",
        "        continue\n",
        "\n",
        "print('Data source import complete.')\n"
      ],
      "metadata": {
        "id": "L3jmX-QQTNAK"
      },
      "cell_type": "code",
      "outputs": [],
      "execution_count": null
    },
    {
      "cell_type": "markdown",
      "source": [
        "#  Spam classification with Naive Bayes and Support Vector Machines."
      ],
      "metadata": {
        "_uuid": "25f02ffdb0d53b9663f351fa0c0f415d2bce15b1",
        "_cell_guid": "f169d7cf-818b-4815-a5be-76265e99d139",
        "id": "QXOArzPtTNAP"
      }
    },
    {
      "cell_type": "markdown",
      "source": [
        "## Libraries"
      ],
      "metadata": {
        "_uuid": "e27ea858875f6d5698fcfb196b32160c8d761697",
        "_cell_guid": "ba30922b-183b-4f2e-ac19-35ebc9dd865a",
        "id": "2t7JwaGYTNAR"
      }
    },
    {
      "cell_type": "code",
      "source": [
        "import numpy as np\n",
        "import pandas as pd\n",
        "import matplotlib.pyplot as plt\n",
        "from collections import Counter\n",
        "from sklearn import feature_extraction, model_selection, naive_bayes, metrics, svm\n",
        "from IPython.display import Image\n",
        "import warnings\n",
        "warnings.filterwarnings(\"ignore\")\n",
        "%matplotlib inline"
      ],
      "metadata": {
        "_uuid": "5eb96b9e55cca9f7dbc74128cd5933856b39aa51",
        "_cell_guid": "77dbf249-4662-4faf-ae30-654f5f76f5b1",
        "collapsed": true,
        "jupyter": {
          "outputs_hidden": true
        },
        "id": "y6kHWq7ATNAR"
      },
      "execution_count": null,
      "outputs": []
    },
    {
      "cell_type": "markdown",
      "source": [
        "## Exploring the Dataset"
      ],
      "metadata": {
        "_uuid": "2a11f84b23cf786579a3beb1074c6e7375456b77",
        "_cell_guid": "ab7471a7-9fda-4dc9-ba8b-6d4f0c1b92e1",
        "id": "znxgnVZfTNAS"
      }
    },
    {
      "cell_type": "code",
      "source": [
        "data = pd.read_csv('../input/spam.csv', encoding='latin-1')\n",
        "data.head(n=10)"
      ],
      "metadata": {
        "_uuid": "3a9038c1ea6026f8ae89cf052aa71c89bcb940dd",
        "_cell_guid": "e8604809-62b9-47bd-84fa-92063d8ae5b3",
        "scrolled": true,
        "id": "8cdclLDvTNAS"
      },
      "execution_count": null,
      "outputs": []
    },
    {
      "cell_type": "markdown",
      "source": [
        "## Distribution spam/non-spam plots"
      ],
      "metadata": {
        "_uuid": "d71ec916875461c07bdb1f9d53d9b0a7210de035",
        "_cell_guid": "2ed76eea-004a-42a0-a1c9-c45c092bbb4b",
        "id": "8rAkEc7HTNAT"
      }
    },
    {
      "cell_type": "code",
      "source": [
        "count_Class=pd.value_counts(data[\"v1\"], sort= True)\n",
        "count_Class.plot(kind= 'bar', color= [\"blue\", \"orange\"])\n",
        "plt.title('Bar chart')\n",
        "plt.show()"
      ],
      "metadata": {
        "_uuid": "99a4b831313c23573b7972c65637d01dd497c6fe",
        "_cell_guid": "74f9cf41-4793-4be5-a46e-bdb93067e973",
        "scrolled": true,
        "id": "raa7wPR8TNAT"
      },
      "execution_count": null,
      "outputs": []
    },
    {
      "cell_type": "code",
      "source": [
        "count_Class.plot(kind = 'pie',  autopct='%1.0f%%')\n",
        "plt.title('Pie chart')\n",
        "plt.ylabel('')\n",
        "plt.show()"
      ],
      "metadata": {
        "_uuid": "f233eab105cb93e90ce37f9361616a5be6645751",
        "_cell_guid": "5596df63-7be7-4625-b952-c5508917a630",
        "id": "jO2H2NkqTNAU"
      },
      "execution_count": null,
      "outputs": []
    },
    {
      "cell_type": "markdown",
      "source": [
        "## Text Analytics"
      ],
      "metadata": {
        "_uuid": "9ec51be1879d2987eef26632bc411a3577b42ae8",
        "_cell_guid": "ff53e1a6-a37b-4a31-9b41-c959296156de",
        "id": "OJorYsnXTNAU"
      }
    },
    {
      "cell_type": "code",
      "source": [
        "count1 = Counter(\" \".join(data[data['v1']=='ham'][\"v2\"]).split()).most_common(20)\n",
        "df1 = pd.DataFrame.from_dict(count1)\n",
        "df1 = df1.rename(columns={0: \"words in non-spam\", 1 : \"count\"})\n",
        "count2 = Counter(\" \".join(data[data['v1']=='spam'][\"v2\"]).split()).most_common(20)\n",
        "df2 = pd.DataFrame.from_dict(count2)\n",
        "df2 = df2.rename(columns={0: \"words in spam\", 1 : \"count_\"})"
      ],
      "metadata": {
        "_uuid": "03677f8369b4bb3450ffe8a9cd3de9c0b01e681d",
        "_cell_guid": "8c750858-87e9-498c-86f5-4df7310f9e63",
        "collapsed": true,
        "jupyter": {
          "outputs_hidden": true
        },
        "id": "DEN58ftvTNAU"
      },
      "execution_count": null,
      "outputs": []
    },
    {
      "cell_type": "code",
      "source": [
        "df1.plot.bar(legend = False)\n",
        "y_pos = np.arange(len(df1[\"words in non-spam\"]))\n",
        "plt.xticks(y_pos, df1[\"words in non-spam\"])\n",
        "plt.title('More frequent words in non-spam messages')\n",
        "plt.xlabel('words')\n",
        "plt.ylabel('number')\n",
        "plt.show()"
      ],
      "metadata": {
        "_uuid": "d18e09f35264ea374ffce57eae07c9335439a2ef",
        "_cell_guid": "b8850226-0043-4a37-9e65-a8409efe7026",
        "scrolled": true,
        "id": "AELbZ6ckTNAV"
      },
      "execution_count": null,
      "outputs": []
    },
    {
      "cell_type": "code",
      "source": [
        "df2.plot.bar(legend = False, color = 'orange')\n",
        "y_pos = np.arange(len(df2[\"words in spam\"]))\n",
        "plt.xticks(y_pos, df2[\"words in spam\"])\n",
        "plt.title('More frequent words in spam messages')\n",
        "plt.xlabel('words')\n",
        "plt.ylabel('number')\n",
        "plt.show()"
      ],
      "metadata": {
        "_uuid": "bf9b59581db68038824724344fe937e65f5f8661",
        "_cell_guid": "9637faec-7114-4365-aceb-a2d74787a205",
        "id": "9h2R5Bc4TNAV"
      },
      "execution_count": null,
      "outputs": []
    },
    {
      "cell_type": "markdown",
      "source": [
        "## Feature engineering"
      ],
      "metadata": {
        "_uuid": "47d3122a6fe0ed51dbe5775c7549695cce2a8470",
        "_cell_guid": "6887a2a9-6c4c-42f1-92df-fdec4ae3f9f0",
        "id": "DYr9gl26TNAV"
      }
    },
    {
      "cell_type": "code",
      "source": [
        "f = feature_extraction.text.CountVectorizer(stop_words = 'english')\n",
        "X = f.fit_transform(data[\"v2\"])\n",
        "np.shape(X)"
      ],
      "metadata": {
        "_uuid": "67b9147f254e720b0641d9a171333942ef529aba",
        "_cell_guid": "653bfeae-e298-44e3-b92c-78c0f747b8ef",
        "id": "MTY3OVT0TNAV"
      },
      "execution_count": null,
      "outputs": []
    },
    {
      "cell_type": "markdown",
      "source": [
        "## Predictive Analysis"
      ],
      "metadata": {
        "_uuid": "1f0489faa50638217e4754ff0a8f26e5298752df",
        "_cell_guid": "448eda90-2493-46f0-a588-8e6e73b7e2d3",
        "id": "XQTT8k00TNAW"
      }
    },
    {
      "cell_type": "code",
      "source": [
        "data[\"v1\"]=data[\"v1\"].map({'spam':1,'ham':0})\n",
        "X_train, X_test, y_train, y_test = model_selection.train_test_split(X, data['v1'], test_size=0.33, random_state=42)\n",
        "print([np.shape(X_train), np.shape(X_test)])"
      ],
      "metadata": {
        "_uuid": "ab65abc5fe63168bfea503db8e58e5ab03383a22",
        "_cell_guid": "e5e2bee3-cdad-4ee6-9c59-f3a536195ed7",
        "id": "sdclqUfMTNAW"
      },
      "execution_count": null,
      "outputs": []
    },
    {
      "cell_type": "markdown",
      "source": [
        "### Multinomial naive bayes classifier"
      ],
      "metadata": {
        "_uuid": "0463069f7287a20571ab90885b85dad8d9a64368",
        "_cell_guid": "76cc3deb-7b7c-4511-ae4e-ef5cd2f7592b",
        "id": "pt3im8Y6TNAW"
      }
    },
    {
      "cell_type": "code",
      "source": [
        "list_alpha = np.arange(1/100000, 20, 0.11)\n",
        "score_train = np.zeros(len(list_alpha))\n",
        "score_test = np.zeros(len(list_alpha))\n",
        "recall_test = np.zeros(len(list_alpha))\n",
        "precision_test= np.zeros(len(list_alpha))\n",
        "count = 0\n",
        "for alpha in list_alpha:\n",
        "    bayes = naive_bayes.MultinomialNB(alpha=alpha)\n",
        "    bayes.fit(X_train, y_train)\n",
        "    score_train[count] = bayes.score(X_train, y_train)\n",
        "    score_test[count]= bayes.score(X_test, y_test)\n",
        "    recall_test[count] = metrics.recall_score(y_test, bayes.predict(X_test))\n",
        "    precision_test[count] = metrics.precision_score(y_test, bayes.predict(X_test))\n",
        "    count = count + 1"
      ],
      "metadata": {
        "_uuid": "4bf729b41f966730729d72d6b61e287ab426bd39",
        "_cell_guid": "e7b5bbc6-23cb-49f8-8ea3-83f71c9f6d97",
        "collapsed": true,
        "jupyter": {
          "outputs_hidden": true
        },
        "id": "7IiJusH3TNAW"
      },
      "execution_count": null,
      "outputs": []
    },
    {
      "cell_type": "markdown",
      "source": [
        "Let's see the first 10 learning models and their metrics!"
      ],
      "metadata": {
        "_uuid": "2c9003728118d2729d284b1712b85f0d2a4df3d5",
        "_cell_guid": "4390a64a-41a8-46a6-b6bb-a204e769a617",
        "id": "1AOYx8laTNAW"
      }
    },
    {
      "cell_type": "code",
      "source": [
        "matrix = np.matrix(np.c_[list_alpha, score_train, score_test, recall_test, precision_test])\n",
        "models = pd.DataFrame(data = matrix, columns =\n",
        "             ['alpha', 'Train Accuracy', 'Test Accuracy', 'Test Recall', 'Test Precision'])\n",
        "models.head(n=10)"
      ],
      "metadata": {
        "_uuid": "b38a2e021e3b5898e0883ee95165457af85f954b",
        "_cell_guid": "9bb5c44b-9d9b-4f79-8462-324eb3addcad",
        "id": "RqnDquPnTNAW"
      },
      "execution_count": null,
      "outputs": []
    },
    {
      "cell_type": "code",
      "source": [
        "best_index = models['Test Precision'].idxmax()\n",
        "models.iloc[best_index, :]"
      ],
      "metadata": {
        "_uuid": "4d87a52c2e11585c970314171d943bcb45f596c8",
        "_cell_guid": "6f285b74-00bc-45cd-af8c-ac3c846b92e7",
        "id": "0WdUmuadTNAX"
      },
      "execution_count": null,
      "outputs": []
    },
    {
      "cell_type": "code",
      "source": [
        "models[models['Test Precision']==1].head(n=5)"
      ],
      "metadata": {
        "_uuid": "a493d149424ca65839847ff534cbd7630011bf09",
        "_cell_guid": "258125aa-b60f-448a-ab78-e6bb54871837",
        "id": "ioxVEmEfTNAX"
      },
      "execution_count": null,
      "outputs": []
    },
    {
      "cell_type": "code",
      "source": [
        "best_index = models[models['Test Precision']==1]['Test Accuracy'].idxmax()\n",
        "bayes = naive_bayes.MultinomialNB(alpha=list_alpha[best_index])\n",
        "bayes.fit(X_train, y_train)\n",
        "models.iloc[best_index, :]"
      ],
      "metadata": {
        "_uuid": "d74e1e4cebee52716b5bf9e9aa72efa147f43f93",
        "_cell_guid": "1dd94a26-7252-4fcd-ad18-7d755ab20ab7",
        "id": "af7q0GMvTNAX"
      },
      "execution_count": null,
      "outputs": []
    },
    {
      "cell_type": "markdown",
      "source": [
        "#### Confusion matrix with naive bayes classifier"
      ],
      "metadata": {
        "_uuid": "606304507b731dd866ad9b97daa654a0c32a544a",
        "_cell_guid": "67ca2aef-56b9-4701-9590-387eb64c13a8",
        "id": "oq39YZc5TNAX"
      }
    },
    {
      "cell_type": "code",
      "source": [
        "m_confusion_test = metrics.confusion_matrix(y_test, bayes.predict(X_test))\n",
        "pd.DataFrame(data = m_confusion_test, columns = ['Predicted 0', 'Predicted 1'],\n",
        "            index = ['Actual 0', 'Actual 1'])"
      ],
      "metadata": {
        "_uuid": "a700b298131b18e8ec21a67959df4a71c1177a54",
        "_cell_guid": "076b7447-5c33-4671-8b25-7000e0c3a28f",
        "id": "cOxO13nWTNAX"
      },
      "execution_count": null,
      "outputs": []
    },
    {
      "cell_type": "markdown",
      "source": [
        "### Support Vector Machine"
      ],
      "metadata": {
        "_uuid": "63efdf82c6e3aeabf14cc906cec456ba6f6a6ac0",
        "_cell_guid": "edfcb798-4f74-4552-8bea-2617804eea56",
        "id": "YAuqMAsQTNAY"
      }
    },
    {
      "cell_type": "code",
      "source": [
        "list_C = np.arange(500, 2000, 100) #100000\n",
        "score_train = np.zeros(len(list_C))\n",
        "score_test = np.zeros(len(list_C))\n",
        "recall_test = np.zeros(len(list_C))\n",
        "precision_test= np.zeros(len(list_C))\n",
        "count = 0\n",
        "for C in list_C:\n",
        "    svc = svm.SVC(C=C)\n",
        "    svc.fit(X_train, y_train)\n",
        "    score_train[count] = svc.score(X_train, y_train)\n",
        "    score_test[count]= svc.score(X_test, y_test)\n",
        "    recall_test[count] = metrics.recall_score(y_test, svc.predict(X_test))\n",
        "    precision_test[count] = metrics.precision_score(y_test, svc.predict(X_test))\n",
        "    count = count + 1"
      ],
      "metadata": {
        "_uuid": "1101b49ede4dccec53089e86f3db2969abea67ee",
        "_cell_guid": "f82fc85a-e883-42d1-abbc-c3b3342247dc",
        "collapsed": true,
        "jupyter": {
          "outputs_hidden": true
        },
        "id": "UJ11RUX5TNAc"
      },
      "execution_count": null,
      "outputs": []
    },
    {
      "cell_type": "code",
      "source": [
        "matrix = np.matrix(np.c_[list_C, score_train, score_test, recall_test, precision_test])\n",
        "models = pd.DataFrame(data = matrix, columns =\n",
        "             ['C', 'Train Accuracy', 'Test Accuracy', 'Test Recall', 'Test Precision'])\n",
        "models.head(n=10)"
      ],
      "metadata": {
        "_uuid": "ec36f5defc3f1477cca07c5280818ee4282995d9",
        "_cell_guid": "4da69237-fe8c-40ac-a72a-d33dc7863859",
        "id": "wVqedXzdTNAc"
      },
      "execution_count": null,
      "outputs": []
    },
    {
      "cell_type": "code",
      "source": [
        "best_index = models['Test Precision'].idxmax()\n",
        "models.iloc[best_index, :]"
      ],
      "metadata": {
        "_uuid": "45c5f185a965f1b92889e56ce5f12c7acacffdf6",
        "_cell_guid": "d0380748-44f5-4e41-af56-d25230c44479",
        "id": "43m263t6TNAc"
      },
      "execution_count": null,
      "outputs": []
    },
    {
      "cell_type": "code",
      "source": [
        "models[models['Test Precision']==1].head(n=5)"
      ],
      "metadata": {
        "_uuid": "fe2f070186300fed89e91380437f036e5feabe1d",
        "_cell_guid": "89a59c66-8814-49d0-8f0e-f3b8acee666b",
        "id": "MJYVS1UOTNAd"
      },
      "execution_count": null,
      "outputs": []
    },
    {
      "cell_type": "code",
      "source": [
        "best_index = models[models['Test Precision']==1]['Test Accuracy'].idxmax()\n",
        "svc = svm.SVC(C=list_C[best_index])\n",
        "svc.fit(X_train, y_train)\n",
        "models.iloc[best_index, :]"
      ],
      "metadata": {
        "_uuid": "d7d6eb9f249d10c19d4b9332c794476973dcf33f",
        "_cell_guid": "49e4103a-3be1-4feb-bec4-d8baa5255a0b",
        "id": "E-JGpoEcTNAd"
      },
      "execution_count": null,
      "outputs": []
    },
    {
      "cell_type": "markdown",
      "source": [
        "#### Confusion matrix with support vector machine classifier."
      ],
      "metadata": {
        "_uuid": "dd004721e1b6171488e1acf4c2a14235fc7f9700",
        "_cell_guid": "d41fbc97-15f5-4963-9d5f-1452b2efe7ab",
        "id": "KLyCi02dTNAd"
      }
    },
    {
      "cell_type": "code",
      "source": [
        "m_confusion_test = metrics.confusion_matrix(y_test, svc.predict(X_test))\n",
        "pd.DataFrame(data = m_confusion_test, columns = ['Predicted 0', 'Predicted 1'],\n",
        "            index = ['Actual 0', 'Actual 1'])"
      ],
      "metadata": {
        "_uuid": "77005bd9a0fd6de323ada9206468c0598fa9c476",
        "_cell_guid": "bf03b698-42e2-407f-a3da-dcc4acc36221",
        "id": "MvUieRjwTNAd"
      },
      "execution_count": null,
      "outputs": []
    }
  ]
}